{
 "cells": [
  {
   "cell_type": "code",
   "execution_count": 5,
   "metadata": {},
   "outputs": [
    {
     "name": "stdout",
     "output_type": "stream",
     "text": [
      "loading, 6 line(s)\n",
      "\n",
      "[0 0 0 0] 0\n",
      "[0 0 0 0] 0\n",
      "[0 0 0 0] 0\n",
      "[0 0 0 0] 0\n",
      "[0 0 0 0] 0\n",
      "\n",
      "done loading\n"
     ]
    }
   ],
   "source": [
    "from __future__ import print_function\n",
    "import tensorflow as tf\n",
    "\n",
    "def file_len(fname):\n",
    "    with open(fname) as f:\n",
    "        for i, l in enumerate(f):\n",
    "            pass\n",
    "    return i + 1\n",
    "\n",
    "filename = \"input/csv_test_data.csv\"\n",
    "\n",
    "# setup text reader\n",
    "file_length = file_len(filename)\n",
    "filename_queue = tf.train.string_input_producer([filename])\n",
    "skip_lines = 1\n",
    "reader = tf.TextLineReader(skip_header_lines=skip_lines)\n",
    "_, csv_row = reader.read(filename_queue)\n",
    "\n",
    "# setup CSV decoding\n",
    "record_defaults = [[0],[0],[0],[0],[0]]\n",
    "col1,col2,col3,col4,col5 = tf.decode_csv(csv_row, record_defaults=record_defaults)\n",
    "\n",
    "# turn features back into a tensor\n",
    "features = tf.stack([col1,col2,col3,col4])\n",
    "\n",
    "print(\"loading, \" + str(file_length) + \" line(s)\\n\")\n",
    "with tf.Session() as sess:\n",
    "  tf.initialize_all_variables().run()\n",
    "\n",
    "  # start populating filename queue\n",
    "  coord = tf.train.Coordinator()\n",
    "  threads = tf.train.start_queue_runners(coord=coord)\n",
    "\n",
    "  for i in range(file_length-skip_lines):\n",
    "    # retrieve a single instance\n",
    "    example, label = sess.run([features, col5])\n",
    "    print(example, label)\n",
    "\n",
    "  coord.request_stop()\n",
    "  coord.join(threads)\n",
    "  print(\"\\ndone loading\")"
   ]
  },
  {
   "cell_type": "code",
   "execution_count": null,
   "metadata": {},
   "outputs": [],
   "source": []
  }
 ],
 "metadata": {
  "kernelspec": {
   "display_name": "Python 3",
   "language": "python",
   "name": "python3"
  },
  "language_info": {
   "codemirror_mode": {
    "name": "ipython",
    "version": 3
   },
   "file_extension": ".py",
   "mimetype": "text/x-python",
   "name": "python",
   "nbconvert_exporter": "python",
   "pygments_lexer": "ipython3",
   "version": "3.6.2"
  }
 },
 "nbformat": 4,
 "nbformat_minor": 2
}
