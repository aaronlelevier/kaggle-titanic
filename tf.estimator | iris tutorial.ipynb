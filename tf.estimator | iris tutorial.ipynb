{
 "cells": [
  {
   "cell_type": "code",
   "execution_count": 50,
   "metadata": {},
   "outputs": [
    {
     "name": "stdout",
     "output_type": "stream",
     "text": [
      "INFO:tensorflow:Using default config.\n",
      "INFO:tensorflow:Using config: {'_model_dir': '/tmp/iris_model', '_tf_random_seed': None, '_save_summary_steps': 100, '_save_checkpoints_steps': None, '_save_checkpoints_secs': 600, '_session_config': None, '_keep_checkpoint_max': 5, '_keep_checkpoint_every_n_hours': 10000, '_log_step_count_steps': 100, '_service': None, '_cluster_spec': <tensorflow.python.training.server_lib.ClusterSpec object at 0x117133cf8>, '_task_type': 'worker', '_task_id': 0, '_master': '', '_is_chief': True, '_num_ps_replicas': 0, '_num_worker_replicas': 1}\n",
      "INFO:tensorflow:Create CheckpointSaverHook.\n",
      "INFO:tensorflow:Restoring parameters from /tmp/iris_model/model.ckpt-4000\n",
      "INFO:tensorflow:Saving checkpoints for 4001 into /tmp/iris_model/model.ckpt.\n",
      "INFO:tensorflow:loss = 3.70742, step = 4001\n",
      "INFO:tensorflow:global_step/sec: 523.865\n",
      "INFO:tensorflow:loss = 4.57085, step = 4101 (0.192 sec)\n",
      "INFO:tensorflow:global_step/sec: 551.521\n",
      "INFO:tensorflow:loss = 3.76226, step = 4201 (0.182 sec)\n",
      "INFO:tensorflow:global_step/sec: 675.4\n",
      "INFO:tensorflow:loss = 5.57715, step = 4301 (0.147 sec)\n",
      "INFO:tensorflow:global_step/sec: 620.799\n",
      "INFO:tensorflow:loss = 3.42761, step = 4401 (0.161 sec)\n",
      "INFO:tensorflow:global_step/sec: 588.142\n",
      "INFO:tensorflow:loss = 6.90069, step = 4501 (0.170 sec)\n",
      "INFO:tensorflow:global_step/sec: 576.508\n",
      "INFO:tensorflow:loss = 3.82325, step = 4601 (0.174 sec)\n",
      "INFO:tensorflow:global_step/sec: 556.548\n",
      "INFO:tensorflow:loss = 3.17378, step = 4701 (0.181 sec)\n",
      "INFO:tensorflow:global_step/sec: 587.058\n",
      "INFO:tensorflow:loss = 1.92136, step = 4801 (0.169 sec)\n",
      "INFO:tensorflow:global_step/sec: 654.403\n",
      "INFO:tensorflow:loss = 5.30418, step = 4901 (0.153 sec)\n",
      "INFO:tensorflow:global_step/sec: 726.634\n",
      "INFO:tensorflow:loss = 3.52108, step = 5001 (0.138 sec)\n",
      "INFO:tensorflow:global_step/sec: 443.101\n",
      "INFO:tensorflow:loss = 4.9292, step = 5101 (0.235 sec)\n",
      "INFO:tensorflow:global_step/sec: 375.413\n",
      "INFO:tensorflow:loss = 6.82085, step = 5201 (0.258 sec)\n",
      "INFO:tensorflow:global_step/sec: 592.691\n",
      "INFO:tensorflow:loss = 3.7558, step = 5301 (0.168 sec)\n",
      "INFO:tensorflow:global_step/sec: 543.641\n",
      "INFO:tensorflow:loss = 3.40287, step = 5401 (0.184 sec)\n",
      "INFO:tensorflow:global_step/sec: 589.133\n",
      "INFO:tensorflow:loss = 9.75333, step = 5501 (0.170 sec)\n",
      "INFO:tensorflow:global_step/sec: 592.697\n",
      "INFO:tensorflow:loss = 3.72596, step = 5601 (0.169 sec)\n",
      "INFO:tensorflow:global_step/sec: 636.866\n",
      "INFO:tensorflow:loss = 4.65728, step = 5701 (0.157 sec)\n",
      "INFO:tensorflow:global_step/sec: 619.794\n",
      "INFO:tensorflow:loss = 5.37238, step = 5801 (0.161 sec)\n",
      "INFO:tensorflow:global_step/sec: 607.452\n",
      "INFO:tensorflow:loss = 1.66077, step = 5901 (0.165 sec)\n",
      "INFO:tensorflow:Saving checkpoints for 6000 into /tmp/iris_model/model.ckpt.\n",
      "INFO:tensorflow:Loss for final step: 0.916263.\n",
      "INFO:tensorflow:Starting evaluation at 2018-01-13-23:30:08\n",
      "INFO:tensorflow:Restoring parameters from /tmp/iris_model/model.ckpt-6000\n",
      "INFO:tensorflow:Finished evaluation at 2018-01-13-23:30:09\n",
      "INFO:tensorflow:Saving dict for global step 6000: accuracy = 0.966667, average_loss = 0.104903, global_step = 6000, loss = 3.1471\n",
      "\n",
      "Test Accuracy: 0.966667\n",
      "\n",
      "INFO:tensorflow:Restoring parameters from /tmp/iris_model/model.ckpt-6000\n",
      "New Samples, Class Predictions:    [array([b'1'], dtype=object), array([b'1'], dtype=object)]\n",
      "\n"
     ]
    }
   ],
   "source": [
    "from __future__ import absolute_import\n",
    "from __future__ import division\n",
    "from __future__ import print_function\n",
    "\n",
    "import os\n",
    "from six.moves.urllib.request import urlopen\n",
    "\n",
    "import numpy as np\n",
    "import tensorflow as tf\n",
    "\n",
    "# Data sets\n",
    "IRIS_TRAINING = \"iris_training.csv\"\n",
    "IRIS_TRAINING_URL = \"http://download.tensorflow.org/data/iris_training.csv\"\n",
    "\n",
    "IRIS_TEST = \"iris_test.csv\"\n",
    "IRIS_TEST_URL = \"http://download.tensorflow.org/data/iris_test.csv\"\n",
    "\n",
    "def main():\n",
    "  # If the training and test sets aren't stored locally, download them.\n",
    "  if not os.path.exists(IRIS_TRAINING):\n",
    "    raw = urlopen(IRIS_TRAINING_URL).read()\n",
    "    with open(IRIS_TRAINING, \"wb\") as f:\n",
    "      f.write(raw)\n",
    "\n",
    "  if not os.path.exists(IRIS_TEST):\n",
    "    raw = urlopen(IRIS_TEST_URL).read()\n",
    "    with open(IRIS_TEST, \"wb\") as f:\n",
    "      f.write(raw)\n",
    "\n",
    "  # Load datasets.\n",
    "  training_set = tf.contrib.learn.datasets.base.load_csv_with_header(\n",
    "      filename=IRIS_TRAINING,\n",
    "      target_dtype=np.int,\n",
    "      features_dtype=np.float32)\n",
    "  test_set = tf.contrib.learn.datasets.base.load_csv_with_header(\n",
    "      filename=IRIS_TEST,\n",
    "      target_dtype=np.int,\n",
    "      features_dtype=np.float32)\n",
    "\n",
    "  # Specify that all features have real-value data\n",
    "  feature_columns = [tf.feature_column.numeric_column(\"x\", shape=[4])]\n",
    "\n",
    "  # Build 3 layer DNN with 10, 20, 10 units respectively.\n",
    "  classifier = tf.estimator.DNNClassifier(feature_columns=feature_columns,\n",
    "                                          hidden_units=[10, 20, 10],\n",
    "                                          n_classes=3,\n",
    "                                          model_dir=\"/tmp/iris_model\")\n",
    "  # Define the training inputs\n",
    "  train_input_fn = tf.estimator.inputs.numpy_input_fn(\n",
    "      x={\"x\": np.array(training_set.data)},\n",
    "      y=np.array(training_set.target),\n",
    "      num_epochs=None,\n",
    "      shuffle=True)\n",
    "\n",
    "  # Train model.\n",
    "  classifier.train(input_fn=train_input_fn, steps=2000)\n",
    "\n",
    "  # Define the test inputs\n",
    "  test_input_fn = tf.estimator.inputs.numpy_input_fn(\n",
    "      x={\"x\": np.array(test_set.data)},\n",
    "      y=np.array(test_set.target),\n",
    "      num_epochs=1,\n",
    "      shuffle=False)\n",
    "\n",
    "  # Evaluate accuracy.\n",
    "  accuracy_score = classifier.evaluate(input_fn=test_input_fn)[\"accuracy\"]\n",
    "\n",
    "  print(\"\\nTest Accuracy: {0:f}\\n\".format(accuracy_score))\n",
    "\n",
    "  # Classify two new flower samples.\n",
    "  new_samples = np.array(\n",
    "      [[6.4, 3.2, 4.5, 1.5],\n",
    "       [5.8, 3.1, 5.0, 1.7]], dtype=np.float32)\n",
    "predict_input_fn = tf.estimator.inputs.numpy_input_fn(\n",
    "  x={\"x\": new_samples},\n",
    "  num_epochs=1,\n",
    "  shuffle=False)\n",
    "\n",
    "predictions = list(classifier.predict(input_fn=predict_input_fn))\n",
    "predicted_classes = [p[\"classes\"] for p in predictions]\n",
    "\n",
    "  print(\n",
    "      \"New Samples, Class Predictions:    {}\\n\"\n",
    "      .format(predicted_classes))\n",
    "\n",
    "if __name__ == \"__main__\":\n",
    "    main()"
   ]
  },
  {
   "cell_type": "code",
   "execution_count": 52,
   "metadata": {},
   "outputs": [
    {
     "data": {
      "text/plain": [
       "(30, 4)"
      ]
     },
     "execution_count": 52,
     "metadata": {},
     "output_type": "execute_result"
    }
   ],
   "source": [
    "np.array(test_set.data).shape"
   ]
  },
  {
   "cell_type": "code",
   "execution_count": 53,
   "metadata": {},
   "outputs": [
    {
     "data": {
      "text/plain": [
       "(30,)"
      ]
     },
     "execution_count": 53,
     "metadata": {},
     "output_type": "execute_result"
    }
   ],
   "source": [
    "test_set.target.shape"
   ]
  },
  {
   "cell_type": "code",
   "execution_count": 2,
   "metadata": {},
   "outputs": [],
   "source": [
    "from __future__ import absolute_import\n",
    "from __future__ import division\n",
    "from __future__ import print_function\n",
    "\n",
    "import os\n",
    "from six.moves.urllib.request import urlopen\n",
    "\n",
    "import tensorflow as tf\n",
    "import numpy as np\n",
    "\n",
    "IRIS_TRAINING = \"iris_training.csv\"\n",
    "IRIS_TRAINING_URL = \"http://download.tensorflow.org/data/iris_training.csv\"\n",
    "\n",
    "IRIS_TEST = \"iris_test.csv\"\n",
    "IRIS_TEST_URL = \"http://download.tensorflow.org/data/iris_test.csv\""
   ]
  },
  {
   "cell_type": "code",
   "execution_count": 3,
   "metadata": {},
   "outputs": [],
   "source": [
    "if not os.path.exists(IRIS_TRAINING):\n",
    "  raw = urlopen(IRIS_TRAINING_URL).read()\n",
    "  with open(IRIS_TRAINING,'wb') as f:\n",
    "    f.write(raw)\n",
    "\n",
    "if not os.path.exists(IRIS_TEST):\n",
    "  raw = urlopen(IRIS_TEST_URL).read()\n",
    "  with open(IRIS_TEST,'wb') as f:\n",
    "    f.write(raw)"
   ]
  },
  {
   "cell_type": "code",
   "execution_count": 4,
   "metadata": {},
   "outputs": [],
   "source": [
    "# Load datasets.\n",
    "training_set = tf.contrib.learn.datasets.base.load_csv_with_header(\n",
    "    filename=IRIS_TRAINING,\n",
    "    target_dtype=np.int,\n",
    "    features_dtype=np.float32)\n",
    "test_set = tf.contrib.learn.datasets.base.load_csv_with_header(\n",
    "    filename=IRIS_TEST,\n",
    "    target_dtype=np.int,\n",
    "    features_dtype=np.float32)"
   ]
  },
  {
   "cell_type": "code",
   "execution_count": 25,
   "metadata": {},
   "outputs": [
    {
     "data": {
      "text/plain": [
       "numpy.ndarray"
      ]
     },
     "execution_count": 25,
     "metadata": {},
     "output_type": "execute_result"
    }
   ],
   "source": [
    "type(training_set.target)"
   ]
  },
  {
   "cell_type": "code",
   "execution_count": 20,
   "metadata": {},
   "outputs": [
    {
     "name": "stdout",
     "output_type": "stream",
     "text": [
      "INFO:tensorflow:Using default config.\n",
      "INFO:tensorflow:Using config: {'_model_dir': '/tmp/iris_model', '_tf_random_seed': None, '_save_summary_steps': 100, '_save_checkpoints_steps': None, '_save_checkpoints_secs': 600, '_session_config': None, '_keep_checkpoint_max': 5, '_keep_checkpoint_every_n_hours': 10000, '_log_step_count_steps': 100, '_service': None, '_cluster_spec': <tensorflow.python.training.server_lib.ClusterSpec object at 0x11784a828>, '_task_type': 'worker', '_task_id': 0, '_master': '', '_is_chief': True, '_num_ps_replicas': 0, '_num_worker_replicas': 1}\n"
     ]
    }
   ],
   "source": [
    "# Specify that all features have real-value data\n",
    "feature_columns = [tf.feature_column.numeric_column(\"x\", shape=[4])]\n",
    "\n",
    "# Build 3 layer DNN with 10, 20, 10 units respectively.\n",
    "classifier = tf.estimator.DNNClassifier(feature_columns=feature_columns,\n",
    "                                        hidden_units=[10, 20, 10],\n",
    "                                        n_classes=3,\n",
    "                                        model_dir=\"/tmp/iris_model\")"
   ]
  },
  {
   "cell_type": "code",
   "execution_count": 36,
   "metadata": {},
   "outputs": [],
   "source": [
    "# Define the training inputs\n",
    "train_input_fn = tf.estimator.inputs.numpy_input_fn(\n",
    "    x={\"x\": np.array(training_set.data)},\n",
    "    y=np.array(training_set.target),\n",
    "    num_epochs=None,\n",
    "    shuffle=True)"
   ]
  },
  {
   "cell_type": "code",
   "execution_count": 37,
   "metadata": {},
   "outputs": [
    {
     "name": "stdout",
     "output_type": "stream",
     "text": [
      "INFO:tensorflow:Create CheckpointSaverHook.\n",
      "INFO:tensorflow:Restoring parameters from /tmp/iris_model/model.ckpt-2000\n",
      "INFO:tensorflow:Saving checkpoints for 2001 into /tmp/iris_model/model.ckpt.\n",
      "INFO:tensorflow:loss = 5.82863, step = 2001\n",
      "INFO:tensorflow:global_step/sec: 628.642\n",
      "INFO:tensorflow:loss = 7.46363, step = 2101 (0.161 sec)\n",
      "INFO:tensorflow:global_step/sec: 698.163\n",
      "INFO:tensorflow:loss = 3.03672, step = 2201 (0.143 sec)\n",
      "INFO:tensorflow:global_step/sec: 596.68\n",
      "INFO:tensorflow:loss = 6.48533, step = 2301 (0.167 sec)\n",
      "INFO:tensorflow:global_step/sec: 507.061\n",
      "INFO:tensorflow:loss = 5.46599, step = 2401 (0.198 sec)\n",
      "INFO:tensorflow:global_step/sec: 551.876\n",
      "INFO:tensorflow:loss = 3.66011, step = 2501 (0.180 sec)\n",
      "INFO:tensorflow:global_step/sec: 625.075\n",
      "INFO:tensorflow:loss = 5.03988, step = 2601 (0.160 sec)\n",
      "INFO:tensorflow:global_step/sec: 599.111\n",
      "INFO:tensorflow:loss = 6.99387, step = 2701 (0.168 sec)\n",
      "INFO:tensorflow:global_step/sec: 523.779\n",
      "INFO:tensorflow:loss = 4.29942, step = 2801 (0.190 sec)\n",
      "INFO:tensorflow:global_step/sec: 583.325\n",
      "INFO:tensorflow:loss = 5.74293, step = 2901 (0.172 sec)\n",
      "INFO:tensorflow:global_step/sec: 588.73\n",
      "INFO:tensorflow:loss = 5.35512, step = 3001 (0.169 sec)\n",
      "INFO:tensorflow:global_step/sec: 593.79\n",
      "INFO:tensorflow:loss = 5.15867, step = 3101 (0.169 sec)\n",
      "INFO:tensorflow:global_step/sec: 357.564\n",
      "INFO:tensorflow:loss = 4.8999, step = 3201 (0.282 sec)\n",
      "INFO:tensorflow:global_step/sec: 319.075\n",
      "INFO:tensorflow:loss = 4.11081, step = 3301 (0.310 sec)\n",
      "INFO:tensorflow:global_step/sec: 337.589\n",
      "INFO:tensorflow:loss = 3.80803, step = 3401 (0.300 sec)\n",
      "INFO:tensorflow:global_step/sec: 366.639\n",
      "INFO:tensorflow:loss = 1.98689, step = 3501 (0.272 sec)\n",
      "INFO:tensorflow:global_step/sec: 575.871\n",
      "INFO:tensorflow:loss = 4.78388, step = 3601 (0.172 sec)\n",
      "INFO:tensorflow:global_step/sec: 641.453\n",
      "INFO:tensorflow:loss = 6.8582, step = 3701 (0.155 sec)\n",
      "INFO:tensorflow:global_step/sec: 636.371\n",
      "INFO:tensorflow:loss = 6.89288, step = 3801 (0.157 sec)\n",
      "INFO:tensorflow:global_step/sec: 586.592\n",
      "INFO:tensorflow:loss = 3.65122, step = 3901 (0.170 sec)\n",
      "INFO:tensorflow:Saving checkpoints for 4000 into /tmp/iris_model/model.ckpt.\n",
      "INFO:tensorflow:Loss for final step: 3.58931.\n"
     ]
    },
    {
     "data": {
      "text/plain": [
       "<tensorflow.python.estimator.canned.dnn.DNNClassifier at 0x1175ea5c0>"
      ]
     },
     "execution_count": 37,
     "metadata": {},
     "output_type": "execute_result"
    }
   ],
   "source": [
    "# Train model.\n",
    "classifier.train(input_fn=train_input_fn, steps=2000)"
   ]
  },
  {
   "cell_type": "code",
   "execution_count": 38,
   "metadata": {},
   "outputs": [
    {
     "name": "stdout",
     "output_type": "stream",
     "text": [
      "INFO:tensorflow:Starting evaluation at 2018-01-11-13:51:39\n",
      "INFO:tensorflow:Restoring parameters from /tmp/iris_model/model.ckpt-4000\n",
      "INFO:tensorflow:Finished evaluation at 2018-01-11-13:51:40\n",
      "INFO:tensorflow:Saving dict for global step 4000: accuracy = 0.966667, average_loss = 0.0889877, global_step = 4000, loss = 2.66963\n",
      "\n",
      "Test Accuracy: 0.966667\n",
      "\n"
     ]
    }
   ],
   "source": [
    "# Define the test inputs\n",
    "test_input_fn = tf.estimator.inputs.numpy_input_fn(\n",
    "    x={\"x\": np.array(test_set.data)},\n",
    "    y=np.array(test_set.target),\n",
    "    num_epochs=1,\n",
    "    shuffle=False)\n",
    "\n",
    "# Evaluate accuracy.\n",
    "accuracy_score = classifier.evaluate(input_fn=test_input_fn)[\"accuracy\"]\n",
    "\n",
    "print(\"\\nTest Accuracy: {0:f}\\n\".format(accuracy_score))"
   ]
  },
  {
   "cell_type": "code",
   "execution_count": 39,
   "metadata": {},
   "outputs": [
    {
     "name": "stdout",
     "output_type": "stream",
     "text": [
      "INFO:tensorflow:Starting evaluation at 2018-01-11-13:58:54\n",
      "INFO:tensorflow:Restoring parameters from /tmp/iris_model/model.ckpt-4000\n",
      "INFO:tensorflow:Finished evaluation at 2018-01-11-13:58:54\n",
      "INFO:tensorflow:Saving dict for global step 4000: accuracy = 0.966667, average_loss = 0.0889877, global_step = 4000, loss = 2.66963\n"
     ]
    }
   ],
   "source": [
    "score = classifier.evaluate(input_fn=test_input_fn)"
   ]
  },
  {
   "cell_type": "code",
   "execution_count": 41,
   "metadata": {},
   "outputs": [
    {
     "data": {
      "text/plain": [
       "['__class__',\n",
       " '__contains__',\n",
       " '__delattr__',\n",
       " '__delitem__',\n",
       " '__dir__',\n",
       " '__doc__',\n",
       " '__eq__',\n",
       " '__format__',\n",
       " '__ge__',\n",
       " '__getattribute__',\n",
       " '__getitem__',\n",
       " '__gt__',\n",
       " '__hash__',\n",
       " '__init__',\n",
       " '__init_subclass__',\n",
       " '__iter__',\n",
       " '__le__',\n",
       " '__len__',\n",
       " '__lt__',\n",
       " '__ne__',\n",
       " '__new__',\n",
       " '__reduce__',\n",
       " '__reduce_ex__',\n",
       " '__repr__',\n",
       " '__setattr__',\n",
       " '__setitem__',\n",
       " '__sizeof__',\n",
       " '__str__',\n",
       " '__subclasshook__',\n",
       " 'clear',\n",
       " 'copy',\n",
       " 'fromkeys',\n",
       " 'get',\n",
       " 'items',\n",
       " 'keys',\n",
       " 'pop',\n",
       " 'popitem',\n",
       " 'setdefault',\n",
       " 'update',\n",
       " 'values']"
      ]
     },
     "execution_count": 41,
     "metadata": {},
     "output_type": "execute_result"
    }
   ],
   "source": [
    "dir(score)"
   ]
  },
  {
   "cell_type": "code",
   "execution_count": 42,
   "metadata": {},
   "outputs": [
    {
     "data": {
      "text/plain": [
       "0.96666664"
      ]
     },
     "execution_count": 42,
     "metadata": {},
     "output_type": "execute_result"
    }
   ],
   "source": [
    "score[\"accuracy\"]"
   ]
  },
  {
   "cell_type": "code",
   "execution_count": 44,
   "metadata": {},
   "outputs": [
    {
     "data": {
      "text/plain": [
       "dict_values([0.96666664, 0.088987678, 2.6696303, 4000])"
      ]
     },
     "execution_count": 44,
     "metadata": {},
     "output_type": "execute_result"
    }
   ],
   "source": [
    "score.values()"
   ]
  },
  {
   "cell_type": "code",
   "execution_count": 45,
   "metadata": {},
   "outputs": [
    {
     "data": {
      "text/plain": [
       "dict_keys(['accuracy', 'average_loss', 'loss', 'global_step'])"
      ]
     },
     "execution_count": 45,
     "metadata": {},
     "output_type": "execute_result"
    }
   ],
   "source": [
    "score.keys()"
   ]
  },
  {
   "cell_type": "code",
   "execution_count": 47,
   "metadata": {},
   "outputs": [
    {
     "data": {
      "text/plain": [
       "array([1, 2, 0, 1, 1, 1, 0, 2, 1, 2, 2, 0, 2, 1, 1, 0, 1, 0, 0, 2, 0, 1, 2,\n",
       "       1, 1, 1, 0, 1, 2, 1])"
      ]
     },
     "execution_count": 47,
     "metadata": {},
     "output_type": "execute_result"
    }
   ],
   "source": [
    "test_set.target"
   ]
  },
  {
   "cell_type": "code",
   "execution_count": 49,
   "metadata": {},
   "outputs": [
    {
     "data": {
      "text/plain": [
       "(120, 4)"
      ]
     },
     "execution_count": 49,
     "metadata": {},
     "output_type": "execute_result"
    }
   ],
   "source": [
    "training_set.data.shape"
   ]
  },
  {
   "cell_type": "code",
   "execution_count": null,
   "metadata": {},
   "outputs": [],
   "source": []
  }
 ],
 "metadata": {
  "kernelspec": {
   "display_name": "Python 3",
   "language": "python",
   "name": "python3"
  },
  "language_info": {
   "codemirror_mode": {
    "name": "ipython",
    "version": 3
   },
   "file_extension": ".py",
   "mimetype": "text/x-python",
   "name": "python",
   "nbconvert_exporter": "python",
   "pygments_lexer": "ipython3",
   "version": "3.6.2"
  }
 },
 "nbformat": 4,
 "nbformat_minor": 2
}
