{
 "cells": [
  {
   "cell_type": "code",
   "execution_count": 30,
   "metadata": {},
   "outputs": [],
   "source": [
    "from __future__ import print_function\n",
    "import tensorflow as tf\n",
    "import numpy as np\n",
    "import pandas as pd\n",
    "import shutil\n",
    "import matplotlib.pyplot as plt\n",
    "%matplotlib inline\n",
    "import pprint"
   ]
  },
  {
   "cell_type": "code",
   "execution_count": 5,
   "metadata": {},
   "outputs": [
    {
     "data": {
      "text/html": [
       "<div>\n",
       "<style scoped>\n",
       "    .dataframe tbody tr th:only-of-type {\n",
       "        vertical-align: middle;\n",
       "    }\n",
       "\n",
       "    .dataframe tbody tr th {\n",
       "        vertical-align: top;\n",
       "    }\n",
       "\n",
       "    .dataframe thead th {\n",
       "        text-align: right;\n",
       "    }\n",
       "</style>\n",
       "<table border=\"1\" class=\"dataframe\">\n",
       "  <thead>\n",
       "    <tr style=\"text-align: right;\">\n",
       "      <th></th>\n",
       "      <th>PassengerId</th>\n",
       "      <th>Survived</th>\n",
       "      <th>Pclass</th>\n",
       "      <th>Name</th>\n",
       "      <th>Sex</th>\n",
       "      <th>Age</th>\n",
       "      <th>SibSp</th>\n",
       "      <th>Parch</th>\n",
       "      <th>Ticket</th>\n",
       "      <th>Fare</th>\n",
       "      <th>Cabin</th>\n",
       "      <th>Embarked</th>\n",
       "    </tr>\n",
       "  </thead>\n",
       "  <tbody>\n",
       "    <tr>\n",
       "      <th>0</th>\n",
       "      <td>1</td>\n",
       "      <td>0</td>\n",
       "      <td>3</td>\n",
       "      <td>Braund, Mr. Owen Harris</td>\n",
       "      <td>male</td>\n",
       "      <td>22.0</td>\n",
       "      <td>1</td>\n",
       "      <td>0</td>\n",
       "      <td>A/5 21171</td>\n",
       "      <td>7.2500</td>\n",
       "      <td>NaN</td>\n",
       "      <td>S</td>\n",
       "    </tr>\n",
       "    <tr>\n",
       "      <th>1</th>\n",
       "      <td>2</td>\n",
       "      <td>1</td>\n",
       "      <td>1</td>\n",
       "      <td>Cumings, Mrs. John Bradley (Florence Briggs Th...</td>\n",
       "      <td>female</td>\n",
       "      <td>38.0</td>\n",
       "      <td>1</td>\n",
       "      <td>0</td>\n",
       "      <td>PC 17599</td>\n",
       "      <td>71.2833</td>\n",
       "      <td>C85</td>\n",
       "      <td>C</td>\n",
       "    </tr>\n",
       "    <tr>\n",
       "      <th>2</th>\n",
       "      <td>3</td>\n",
       "      <td>1</td>\n",
       "      <td>3</td>\n",
       "      <td>Heikkinen, Miss. Laina</td>\n",
       "      <td>female</td>\n",
       "      <td>26.0</td>\n",
       "      <td>0</td>\n",
       "      <td>0</td>\n",
       "      <td>STON/O2. 3101282</td>\n",
       "      <td>7.9250</td>\n",
       "      <td>NaN</td>\n",
       "      <td>S</td>\n",
       "    </tr>\n",
       "    <tr>\n",
       "      <th>3</th>\n",
       "      <td>4</td>\n",
       "      <td>1</td>\n",
       "      <td>1</td>\n",
       "      <td>Futrelle, Mrs. Jacques Heath (Lily May Peel)</td>\n",
       "      <td>female</td>\n",
       "      <td>35.0</td>\n",
       "      <td>1</td>\n",
       "      <td>0</td>\n",
       "      <td>113803</td>\n",
       "      <td>53.1000</td>\n",
       "      <td>C123</td>\n",
       "      <td>S</td>\n",
       "    </tr>\n",
       "    <tr>\n",
       "      <th>4</th>\n",
       "      <td>5</td>\n",
       "      <td>0</td>\n",
       "      <td>3</td>\n",
       "      <td>Allen, Mr. William Henry</td>\n",
       "      <td>male</td>\n",
       "      <td>35.0</td>\n",
       "      <td>0</td>\n",
       "      <td>0</td>\n",
       "      <td>373450</td>\n",
       "      <td>8.0500</td>\n",
       "      <td>NaN</td>\n",
       "      <td>S</td>\n",
       "    </tr>\n",
       "  </tbody>\n",
       "</table>\n",
       "</div>"
      ],
      "text/plain": [
       "   PassengerId  Survived  Pclass  \\\n",
       "0            1         0       3   \n",
       "1            2         1       1   \n",
       "2            3         1       3   \n",
       "3            4         1       1   \n",
       "4            5         0       3   \n",
       "\n",
       "                                                Name     Sex   Age  SibSp  \\\n",
       "0                            Braund, Mr. Owen Harris    male  22.0      1   \n",
       "1  Cumings, Mrs. John Bradley (Florence Briggs Th...  female  38.0      1   \n",
       "2                             Heikkinen, Miss. Laina  female  26.0      0   \n",
       "3       Futrelle, Mrs. Jacques Heath (Lily May Peel)  female  35.0      1   \n",
       "4                           Allen, Mr. William Henry    male  35.0      0   \n",
       "\n",
       "   Parch            Ticket     Fare Cabin Embarked  \n",
       "0      0         A/5 21171   7.2500   NaN        S  \n",
       "1      0          PC 17599  71.2833   C85        C  \n",
       "2      0  STON/O2. 3101282   7.9250   NaN        S  \n",
       "3      0            113803  53.1000  C123        S  \n",
       "4      0            373450   8.0500   NaN        S  "
      ]
     },
     "execution_count": 5,
     "metadata": {},
     "output_type": "execute_result"
    }
   ],
   "source": [
    "df = pd.read_csv('input/train.csv')\n",
    "df.head()"
   ]
  },
  {
   "cell_type": "code",
   "execution_count": 28,
   "metadata": {},
   "outputs": [
    {
     "name": "stdout",
     "output_type": "stream",
     "text": [
      "INFO:tensorflow:Using config: {'_model_dir': '/tmp/titanic/', '_tf_random_seed': None, '_save_summary_steps': 100, '_save_checkpoints_steps': None, '_save_checkpoints_secs': 600, '_session_config': device_count {\n",
      "  key: \"GPU\"\n",
      "}\n",
      ", '_keep_checkpoint_max': 5, '_keep_checkpoint_every_n_hours': 10000, '_log_step_count_steps': 100, '_service': None, '_cluster_spec': <tensorflow.python.training.server_lib.ClusterSpec object at 0x11904c6a0>, '_task_type': 'worker', '_task_id': 0, '_master': '', '_is_chief': True, '_num_ps_replicas': 0, '_num_worker_replicas': 1}\n",
      "Parsing input/train-main-train-set.csv\n",
      "INFO:tensorflow:Create CheckpointSaverHook.\n",
      "INFO:tensorflow:Saving checkpoints for 1 into /tmp/titanic/model.ckpt.\n",
      "INFO:tensorflow:loss = 78.7212, step = 1\n",
      "INFO:tensorflow:Saving checkpoints for 7 into /tmp/titanic/model.ckpt.\n",
      "INFO:tensorflow:Loss for final step: 70.1335.\n",
      "Parsing input/train-main-dev-set.csv\n",
      "WARNING:tensorflow:Casting <dtype: 'float32'> labels to bool.\n",
      "WARNING:tensorflow:Casting <dtype: 'float32'> labels to bool.\n",
      "INFO:tensorflow:Starting evaluation at 2018-01-25-14:45:49\n",
      "INFO:tensorflow:Restoring parameters from /tmp/titanic/model.ckpt-7\n",
      "INFO:tensorflow:Finished evaluation at 2018-01-25-14:45:50\n",
      "INFO:tensorflow:Saving dict for global step 7: accuracy = 0.389474, accuracy_baseline = 0.631579, auc = 0.739167, auc_precision_recall = 0.665142, average_loss = 0.7241, global_step = 7, label/mean = 0.368421, loss = 68.7895, prediction/mean = 0.632198\n",
      "Results at epoch 1\n",
      "------------------------------------------------------------\n",
      "accuracy: 0.389474\n",
      "accuracy_baseline: 0.631579\n",
      "auc: 0.739167\n",
      "auc_precision_recall: 0.665142\n",
      "average_loss: 0.7241\n",
      "global_step: 7\n",
      "label/mean: 0.368421\n",
      "loss: 68.7895\n",
      "prediction/mean: 0.632198\n",
      "Parsing input/train-main-train-set.csv\n",
      "INFO:tensorflow:Create CheckpointSaverHook.\n",
      "INFO:tensorflow:Restoring parameters from /tmp/titanic/model.ckpt-7\n",
      "INFO:tensorflow:Saving checkpoints for 8 into /tmp/titanic/model.ckpt.\n",
      "INFO:tensorflow:loss = 95.7376, step = 8\n",
      "INFO:tensorflow:Saving checkpoints for 14 into /tmp/titanic/model.ckpt.\n",
      "INFO:tensorflow:Loss for final step: 65.272.\n",
      "Parsing input/train-main-dev-set.csv\n",
      "WARNING:tensorflow:Casting <dtype: 'float32'> labels to bool.\n",
      "WARNING:tensorflow:Casting <dtype: 'float32'> labels to bool.\n",
      "INFO:tensorflow:Starting evaluation at 2018-01-25-14:45:58\n",
      "INFO:tensorflow:Restoring parameters from /tmp/titanic/model.ckpt-14\n",
      "INFO:tensorflow:Finished evaluation at 2018-01-25-14:45:59\n",
      "INFO:tensorflow:Saving dict for global step 14: accuracy = 0.742105, accuracy_baseline = 0.631579, auc = 0.803214, auc_precision_recall = 0.739207, average_loss = 0.591808, global_step = 14, label/mean = 0.368421, loss = 56.2217, prediction/mean = 0.445538\n",
      "Results at epoch 2\n",
      "------------------------------------------------------------\n",
      "accuracy: 0.742105\n",
      "accuracy_baseline: 0.631579\n",
      "auc: 0.803214\n",
      "auc_precision_recall: 0.739207\n",
      "average_loss: 0.591808\n",
      "global_step: 14\n",
      "label/mean: 0.368421\n",
      "loss: 56.2217\n",
      "prediction/mean: 0.445538\n",
      "Parsing input/train-main-train-set.csv\n",
      "INFO:tensorflow:Create CheckpointSaverHook.\n",
      "INFO:tensorflow:Restoring parameters from /tmp/titanic/model.ckpt-14\n",
      "INFO:tensorflow:Saving checkpoints for 15 into /tmp/titanic/model.ckpt.\n",
      "INFO:tensorflow:loss = 63.8778, step = 15\n",
      "INFO:tensorflow:Saving checkpoints for 21 into /tmp/titanic/model.ckpt.\n",
      "INFO:tensorflow:Loss for final step: 57.4123.\n",
      "Parsing input/train-main-dev-set.csv\n",
      "WARNING:tensorflow:Casting <dtype: 'float32'> labels to bool.\n",
      "WARNING:tensorflow:Casting <dtype: 'float32'> labels to bool.\n",
      "INFO:tensorflow:Starting evaluation at 2018-01-25-14:46:08\n",
      "INFO:tensorflow:Restoring parameters from /tmp/titanic/model.ckpt-21\n",
      "INFO:tensorflow:Finished evaluation at 2018-01-25-14:46:09\n",
      "INFO:tensorflow:Saving dict for global step 21: accuracy = 0.631579, accuracy_baseline = 0.631579, auc = 0.815298, auc_precision_recall = 0.75905, average_loss = 0.580657, global_step = 21, label/mean = 0.368421, loss = 55.1625, prediction/mean = 0.233304\n",
      "Results at epoch 3\n",
      "------------------------------------------------------------\n",
      "accuracy: 0.631579\n",
      "accuracy_baseline: 0.631579\n",
      "auc: 0.815298\n",
      "auc_precision_recall: 0.75905\n",
      "average_loss: 0.580657\n",
      "global_step: 21\n",
      "label/mean: 0.368421\n",
      "loss: 55.1625\n",
      "prediction/mean: 0.233304\n",
      "Parsing input/train-main-train-set.csv\n",
      "INFO:tensorflow:Create CheckpointSaverHook.\n",
      "INFO:tensorflow:Restoring parameters from /tmp/titanic/model.ckpt-21\n",
      "INFO:tensorflow:Saving checkpoints for 22 into /tmp/titanic/model.ckpt.\n",
      "INFO:tensorflow:loss = 60.7505, step = 22\n",
      "INFO:tensorflow:Saving checkpoints for 28 into /tmp/titanic/model.ckpt.\n",
      "INFO:tensorflow:Loss for final step: 63.6431.\n",
      "Parsing input/train-main-dev-set.csv\n",
      "WARNING:tensorflow:Casting <dtype: 'float32'> labels to bool.\n",
      "WARNING:tensorflow:Casting <dtype: 'float32'> labels to bool.\n",
      "INFO:tensorflow:Starting evaluation at 2018-01-25-14:46:17\n",
      "INFO:tensorflow:Restoring parameters from /tmp/titanic/model.ckpt-28\n",
      "INFO:tensorflow:Finished evaluation at 2018-01-25-14:46:18\n",
      "INFO:tensorflow:Saving dict for global step 28: accuracy = 0.631579, accuracy_baseline = 0.631579, auc = 0.759167, auc_precision_recall = 0.664959, average_loss = 0.612393, global_step = 28, label/mean = 0.368421, loss = 58.1773, prediction/mean = 0.244043\n",
      "Results at epoch 4\n",
      "------------------------------------------------------------\n",
      "accuracy: 0.631579\n",
      "accuracy_baseline: 0.631579\n",
      "auc: 0.759167\n",
      "auc_precision_recall: 0.664959\n",
      "average_loss: 0.612393\n",
      "global_step: 28\n",
      "label/mean: 0.368421\n",
      "loss: 58.1773\n",
      "prediction/mean: 0.244043\n",
      "Parsing input/train-main-train-set.csv\n",
      "INFO:tensorflow:Create CheckpointSaverHook.\n",
      "INFO:tensorflow:Restoring parameters from /tmp/titanic/model.ckpt-28\n",
      "INFO:tensorflow:Saving checkpoints for 29 into /tmp/titanic/model.ckpt.\n",
      "INFO:tensorflow:loss = 60.1593, step = 29\n",
      "INFO:tensorflow:Saving checkpoints for 35 into /tmp/titanic/model.ckpt.\n",
      "INFO:tensorflow:Loss for final step: 61.4805.\n",
      "Parsing input/train-main-dev-set.csv\n",
      "WARNING:tensorflow:Casting <dtype: 'float32'> labels to bool.\n",
      "WARNING:tensorflow:Casting <dtype: 'float32'> labels to bool.\n",
      "INFO:tensorflow:Starting evaluation at 2018-01-25-14:46:27\n",
      "INFO:tensorflow:Restoring parameters from /tmp/titanic/model.ckpt-35\n",
      "INFO:tensorflow:Finished evaluation at 2018-01-25-14:46:28\n",
      "INFO:tensorflow:Saving dict for global step 35: accuracy = 0.742105, accuracy_baseline = 0.631579, auc = 0.820893, auc_precision_recall = 0.759261, average_loss = 0.499235, global_step = 35, label/mean = 0.368421, loss = 47.4273, prediction/mean = 0.339685\n",
      "Results at epoch 5\n",
      "------------------------------------------------------------\n",
      "accuracy: 0.742105\n",
      "accuracy_baseline: 0.631579\n",
      "auc: 0.820893\n",
      "auc_precision_recall: 0.759261\n",
      "average_loss: 0.499235\n",
      "global_step: 35\n",
      "label/mean: 0.368421\n",
      "loss: 47.4273\n",
      "prediction/mean: 0.339685\n"
     ]
    }
   ],
   "source": [
    "csv_columns = ['Survived', 'Pclass', 'Sex', 'Age',\n",
    "               'SibSp', 'Parch', 'Fare', 'Cabin']\n",
    "\n",
    "record_defaults = [[0], [0], [''], [0.],\n",
    "                   [0], [0], [0.], ['']]\n",
    "\n",
    "num_examples = 700\n",
    "\n",
    "run_config = tf.estimator.RunConfig().replace(\n",
    "    session_config=tf.ConfigProto(device_count={'GPU': 0}))\n",
    "\n",
    "def get_model_columns():\n",
    "    pclass = tf.feature_column.numeric_column('Pclass', dtype=tf.int32)\n",
    "    sex = tf.feature_column.categorical_column_with_vocabulary_list(\n",
    "        'Sex', ['male', 'female'])\n",
    "    age = tf.feature_column.numeric_column('Age')\n",
    "    age_buckets = tf.feature_column.bucketized_column(\n",
    "        age, boundaries=[5., 10., 18., 30., 40., 50., 60., 65.])\n",
    "    sibsp = tf.feature_column.numeric_column('SibSp', dtype=tf.int32)\n",
    "    parch = tf.feature_column.numeric_column('Parch', dtype=tf.int32)\n",
    "    fare = tf.feature_column.numeric_column('Fare')\n",
    "    cabin = tf.feature_column.categorical_column_with_hash_bucket(\n",
    "      'Cabin', hash_bucket_size=1000)\n",
    "    \n",
    "    wide_columns = [pclass, sex, age_buckets, sibsp, parch, fare, cabin]\n",
    "    \n",
    "    dense_sex = tf.feature_column.embedding_column(sex, dimension=2)\n",
    "    dense_cabin = tf.feature_column.embedding_column(cabin, dimension=2)\n",
    "    \n",
    "    deep_columns = [pclass, age_buckets, sibsp, parch, fare, dense_sex, dense_cabin]\n",
    "    \n",
    "    return wide_columns, deep_columns\n",
    "\n",
    "def get_model_classifier(model_type='linear'):\n",
    "    wide_columns, deep_columns = get_model_columns()\n",
    "\n",
    "    if model_type == 'linear':\n",
    "        model = tf.estimator.LinearClassifier(\n",
    "            model_dir=model_dir,\n",
    "            feature_columns=wide_columns,\n",
    "            config=run_config)\n",
    "    elif model_type == 'deep':\n",
    "        model = tf.estimator.DNNClassifier(\n",
    "            model_dir=model_dir,\n",
    "            feature_columns=deep_columns,\n",
    "            hidden_units=hidden_units,\n",
    "            config=run_config)\n",
    "    else:\n",
    "        raise AssertionError('Invalid model type')\n",
    "    return model\n",
    "\n",
    "def input_fn(data_file, num_epochs, shuffle, batch_size):\n",
    "\n",
    "    def parse_line(line):\n",
    "        print('Parsing', data_file)\n",
    "        columns = tf.decode_csv(line, record_defaults=record_defaults)\n",
    "        features = dict(zip(csv_columns, columns))\n",
    "        labels = features.pop('Survived')\n",
    "        return features, tf.equal(labels, 1)\n",
    "\n",
    "    # Extract lines from input files using the Dataset API. | skip(1) ~ means skip header row\n",
    "    dataset = tf.data.TextLineDataset(data_file).skip(1)\n",
    "\n",
    "    if shuffle:\n",
    "        dataset = dataset.shuffle(buffer_size=num_examples)\n",
    "\n",
    "    dataset = dataset.map(parse_line, num_parallel_calls=5)\n",
    "\n",
    "    # We call repeat after shuffling, rather than before, to prevent separate\n",
    "    # epochs from blending together.\n",
    "    dataset = dataset.repeat(num_epochs)\n",
    "    dataset = dataset.batch(batch_size)\n",
    "\n",
    "    iterator = dataset.make_one_shot_iterator()\n",
    "    features, labels = iterator.get_next()\n",
    "    return features, labels\n",
    "\n",
    "# Main \"model\" training\n",
    "train_epochs = 5\n",
    "epochs_per_eval = 1\n",
    "batch_size = 100\n",
    "hidden_units = [100, 75, 50, 25]\n",
    "train_data = 'input/train-main-train-set.csv'\n",
    "test_data = 'input/train-main-dev-set.csv'\n",
    "\n",
    "model_dir = '/tmp/titanic/'\n",
    "shutil.rmtree(model_dir, ignore_errors=True)\n",
    "\n",
    "model = get_model_classifier(model_type='deep')\n",
    "\n",
    "results_list = []\n",
    "for n in range(train_epochs // epochs_per_eval):\n",
    "    model.train(input_fn=lambda: input_fn(\n",
    "        train_data, epochs_per_eval, True, batch_size))\n",
    "\n",
    "    results = model.evaluate(input_fn=lambda: input_fn(\n",
    "        test_data, 1, False, batch_size))\n",
    "    results_list.append(results)\n",
    "\n",
    "    # display results\n",
    "\n",
    "    print('Results at epoch', (n + 1) * epochs_per_eval)\n",
    "    print('-' * 60)\n",
    "\n",
    "    for key in sorted(results):\n",
    "        print('%s: %s' % (key, results[key]))"
   ]
  },
  {
   "cell_type": "code",
   "execution_count": 31,
   "metadata": {},
   "outputs": [
    {
     "data": {
      "image/png": "[encoded data removed]",
      "text/plain": [
       "<matplotlib.figure.Figure at 0x11390db38>"
      ]
     },
     "metadata": {},
     "output_type": "display_data"
    },
    {
     "name": "stdout",
     "output_type": "stream",
     "text": [
      "{'accuracy': 0.74210525,\n",
      " 'accuracy_baseline': 0.63157892,\n",
      " 'auc': 0.82089287,\n",
      " 'auc_precision_recall': 0.75926143,\n",
      " 'average_loss': 0.499235,\n",
      " 'global_step': 35,\n",
      " 'label/mean': 0.36842105,\n",
      " 'loss': 47.427326,\n",
      " 'prediction/mean': 0.33968458}\n"
     ]
    }
   ],
   "source": [
    "title = 'Loss'\n",
    "data_points_list = [r['loss'] for r in results_list]\n",
    "\n",
    "plt.ylabel(title)\n",
    "plt.plot(data_points_list)\n",
    "plt.show()\n",
    "\n",
    "pprint.pprint(results_list[-1])"
   ]
  },
  {
   "cell_type": "code",
   "execution_count": 22,
   "metadata": {},
   "outputs": [
    {
     "data": {
      "text/plain": [
       "{'accuracy': 0.79473686,\n",
       " 'accuracy_baseline': 0.63157892,\n",
       " 'auc': 0.88327378,\n",
       " 'auc_precision_recall': 0.84986967,\n",
       " 'average_loss': 0.4071424,\n",
       " 'global_step': 280,\n",
       " 'label/mean': 0.36842105,\n",
       " 'loss': 38.678528,\n",
       " 'prediction/mean': 0.33342153}"
      ]
     },
     "execution_count": 22,
     "metadata": {},
     "output_type": "execute_result"
    }
   ],
   "source": [
    "results_list[-1]"
   ]
  },
  {
   "cell_type": "code",
   "execution_count": 7,
   "metadata": {},
   "outputs": [
    {
     "data": {
      "text/plain": [
       "{'accuracy': 0.79473686,\n",
       " 'accuracy_baseline': 0.63157892,\n",
       " 'auc': 0.83946431,\n",
       " 'auc_precision_recall': 0.82736772,\n",
       " 'average_loss': 0.43655688,\n",
       " 'global_step': 40,\n",
       " 'label/mean': 0.36842105,\n",
       " 'loss': 82.945808,\n",
       " 'prediction/mean': 0.39673224}"
      ]
     },
     "execution_count": 7,
     "metadata": {},
     "output_type": "execute_result"
    }
   ],
   "source": [
    "final_results_40_epochs_700_batch_size = results_list[-1]\n",
    "final_results_20_epochs_40_batch_size"
   ]
  },
  {
   "cell_type": "code",
   "execution_count": 108,
   "metadata": {},
   "outputs": [
    {
     "name": "stdout",
     "output_type": "stream",
     "text": [
      "(418, 1)\n",
      "INFO:tensorflow:Restoring parameters from /tmp/titanic/model.ckpt-1401\n"
     ]
    },
    {
     "data": {
      "text/html": [
       "<div>\n",
       "<style scoped>\n",
       "    .dataframe tbody tr th:only-of-type {\n",
       "        vertical-align: middle;\n",
       "    }\n",
       "\n",
       "    .dataframe tbody tr th {\n",
       "        vertical-align: top;\n",
       "    }\n",
       "\n",
       "    .dataframe thead th {\n",
       "        text-align: right;\n",
       "    }\n",
       "</style>\n",
       "<table border=\"1\" class=\"dataframe\">\n",
       "  <thead>\n",
       "    <tr style=\"text-align: right;\">\n",
       "      <th></th>\n",
       "      <th>PassengerId</th>\n",
       "      <th>Survived</th>\n",
       "    </tr>\n",
       "  </thead>\n",
       "  <tbody>\n",
       "    <tr>\n",
       "      <th>413</th>\n",
       "      <td>1305</td>\n",
       "      <td>0</td>\n",
       "    </tr>\n",
       "    <tr>\n",
       "      <th>414</th>\n",
       "      <td>1306</td>\n",
       "      <td>1</td>\n",
       "    </tr>\n",
       "    <tr>\n",
       "      <th>415</th>\n",
       "      <td>1307</td>\n",
       "      <td>0</td>\n",
       "    </tr>\n",
       "    <tr>\n",
       "      <th>416</th>\n",
       "      <td>1308</td>\n",
       "      <td>0</td>\n",
       "    </tr>\n",
       "    <tr>\n",
       "      <th>417</th>\n",
       "      <td>1309</td>\n",
       "      <td>0</td>\n",
       "    </tr>\n",
       "  </tbody>\n",
       "</table>\n",
       "</div>"
      ],
      "text/plain": [
       "     PassengerId Survived\n",
       "413         1305        0\n",
       "414         1306        1\n",
       "415         1307        0\n",
       "416         1308        0\n",
       "417         1309        0"
      ]
     },
     "execution_count": 108,
     "metadata": {},
     "output_type": "execute_result"
    }
   ],
   "source": [
    "# # model prediction using Pandas and 'tf.estimator.inputs.numpy_input_fn'\n",
    "# import pandas as pd\n",
    "\n",
    "# test_df = pd.read_csv('input/test.csv')\n",
    "# pall_pdf = np.array([test_df['Sex']])\n",
    "\n",
    "# print(pall_pdf.T.shape)\n",
    "\n",
    "# predict_input_fn = tf.estimator.inputs.numpy_input_fn(\n",
    "#     x={\"Sex\": pall_pdf.T},\n",
    "#     num_epochs=1,\n",
    "#     shuffle=False)\n",
    "\n",
    "# predictions = model.predict(input_fn=predict_input_fn)\n",
    "# predicted_classes = [p[\"classes\"][0].decode('utf8') for p in predictions]\n",
    "# sum((int(x) for x in predicted_classes))\n",
    "\n",
    "# submission = pd.DataFrame(data={'PassengerId': test_df['PassengerId'], 'Survived': predicted_classes})\n",
    "# submission.to_csv('input/submission.csv', index=False)\n",
    "# submission.tail()"
   ]
  },
  {
   "cell_type": "code",
   "execution_count": 26,
   "metadata": {},
   "outputs": [
    {
     "name": "stdout",
     "output_type": "stream",
     "text": [
      "Parsing input/test-main.csv\n",
      "WARNING:tensorflow:Input graph does not contain a QueueRunner. That means predict yields forever. This is probably a mistake.\n",
      "INFO:tensorflow:Restoring parameters from /tmp/titanic/model.ckpt-280\n",
      "Total Survived: 111\n"
     ]
    },
    {
     "data": {
      "text/html": [
       "<div>\n",
       "<style scoped>\n",
       "    .dataframe tbody tr th:only-of-type {\n",
       "        vertical-align: middle;\n",
       "    }\n",
       "\n",
       "    .dataframe tbody tr th {\n",
       "        vertical-align: top;\n",
       "    }\n",
       "\n",
       "    .dataframe thead th {\n",
       "        text-align: right;\n",
       "    }\n",
       "</style>\n",
       "<table border=\"1\" class=\"dataframe\">\n",
       "  <thead>\n",
       "    <tr style=\"text-align: right;\">\n",
       "      <th></th>\n",
       "      <th>PassengerId</th>\n",
       "      <th>Survived</th>\n",
       "    </tr>\n",
       "  </thead>\n",
       "  <tbody>\n",
       "    <tr>\n",
       "      <th>413</th>\n",
       "      <td>1305</td>\n",
       "      <td>0</td>\n",
       "    </tr>\n",
       "    <tr>\n",
       "      <th>414</th>\n",
       "      <td>1306</td>\n",
       "      <td>1</td>\n",
       "    </tr>\n",
       "    <tr>\n",
       "      <th>415</th>\n",
       "      <td>1307</td>\n",
       "      <td>0</td>\n",
       "    </tr>\n",
       "    <tr>\n",
       "      <th>416</th>\n",
       "      <td>1308</td>\n",
       "      <td>0</td>\n",
       "    </tr>\n",
       "    <tr>\n",
       "      <th>417</th>\n",
       "      <td>1309</td>\n",
       "      <td>0</td>\n",
       "    </tr>\n",
       "  </tbody>\n",
       "</table>\n",
       "</div>"
      ],
      "text/plain": [
       "     PassengerId Survived\n",
       "413         1305        0\n",
       "414         1306        1\n",
       "415         1307        0\n",
       "416         1308        0\n",
       "417         1309        0"
      ]
     },
     "execution_count": 26,
     "metadata": {},
     "output_type": "execute_result"
    }
   ],
   "source": [
    "# model.predict with TF\n",
    "csv_columns = ['Pclass', 'Sex', 'Age','SibSp', 'Parch', 'Fare', 'Cabin']\n",
    "record_defaults = [[0], [''], [0.],\n",
    "                   [0], [0], [0.], ['']]\n",
    "\n",
    "def tf_predict_input_fn(data_file):\n",
    "\n",
    "    def parse_csv(value):\n",
    "        print('Parsing', data_file)\n",
    "        columns = tf.decode_csv(value, record_defaults=record_defaults)\n",
    "        features = dict(zip(csv_columns, columns))\n",
    "        return features\n",
    "\n",
    "    # Extract lines from input files using the Dataset API.\n",
    "    dataset = tf.data.TextLineDataset(data_file).skip(1)\n",
    "\n",
    "    dataset = dataset.map(parse_csv, num_parallel_calls=5)\n",
    "    \n",
    "    # We call repeat after shuffling, rather than before, to prevent separate\n",
    "    # epochs from blending together.\n",
    "    dataset = dataset.repeat(1) # times to repeat\n",
    "    dataset = dataset.batch(1) # batch size - NOTE: probably ignored since \"repeat=1\"\n",
    "\n",
    "    iterator = dataset.make_one_shot_iterator()\n",
    "    features = iterator.get_next()\n",
    "    return features\n",
    "\n",
    "df = pd.read_csv('input/test.csv')\n",
    "\n",
    "predictions = model.predict(input_fn=lambda: tf_predict_input_fn(\n",
    "        data_file='input/test-main.csv'))\n",
    "predicted_classes = [p[\"classes\"][0].decode('utf8') for p in predictions]\n",
    "submission = pd.DataFrame(data={\n",
    "    'PassengerId': df['PassengerId'],\n",
    "    'Survived': predicted_classes\n",
    "})\n",
    "submission.to_csv('input/submission.csv', index=False)\n",
    "\n",
    "print('Total Survived: {}'.format(sum((int(x) for x in predicted_classes))))\n",
    "\n",
    "# Submission CSV tail\n",
    "submission.tail()"
   ]
  },
  {
   "cell_type": "code",
   "execution_count": 24,
   "metadata": {},
   "outputs": [
    {
     "data": {
      "text/plain": [
       "111"
      ]
     },
     "execution_count": 24,
     "metadata": {},
     "output_type": "execute_result"
    }
   ],
   "source": [
    "sum((int(x) for x in predicted_classes))"
   ]
  },
  {
   "cell_type": "code",
   "execution_count": 134,
   "metadata": {},
   "outputs": [],
   "source": [
    "# CSV - trim down \"train\" feature columns\n",
    "import csv\n",
    "\n",
    "read_filename = 'input/train-orig.csv'\n",
    "write_filename = 'input/train-main.csv'\n",
    "\n",
    "csv_columns = ['Survived', 'Pclass', 'Sex', 'Age',\n",
    "               'SibSp', 'Parch', 'Fare', 'Cabin']\n",
    "\n",
    "with open(read_filename, 'r', newline='') as csv_readfile:\n",
    "    reader = csv.DictReader(csv_readfile)\n",
    "\n",
    "    with open(write_filename, 'w', newline='') as csv_writefile:\n",
    "        fieldnames = csv_columns\n",
    "        writer = csv.DictWriter(csv_writefile, fieldnames=fieldnames)\n",
    "        writer.writeheader()\n",
    "        for line in reader:\n",
    "            writer.writerow({c: line[c] for c in csv_columns})"
   ]
  },
  {
   "cell_type": "code",
   "execution_count": 136,
   "metadata": {},
   "outputs": [],
   "source": [
    "# CSV - split \"all train data\" to: train-set / dev-set\n",
    "import csv\n",
    "\n",
    "read_filename = 'input/train-main.csv'\n",
    "write_filename = 'input/train-main-dev-set.csv'\n",
    "\n",
    "split = 700\n",
    "\n",
    "with open(read_filename, 'r', newline='') as csv_readfile:\n",
    "    reader = csv.DictReader(csv_readfile)\n",
    "\n",
    "    with open(write_filename, 'w', newline='') as csv_writefile:\n",
    "        fieldnames = csv_columns\n",
    "        writer = csv.DictWriter(csv_writefile, fieldnames=fieldnames)\n",
    "\n",
    "        writer.writeheader()\n",
    "        for idx, line in enumerate(reader):\n",
    "            if idx > split:\n",
    "                writer.writerow({c: line[c] for c in csv_columns})"
   ]
  },
  {
   "cell_type": "code",
   "execution_count": 139,
   "metadata": {},
   "outputs": [],
   "source": [
    "# test set: remove all columns except for 'Sex'\n",
    "# No 'Survived' label like the training data\n",
    "import csv\n",
    "\n",
    "read_filename = 'input/test-orig.csv'\n",
    "write_filename = 'input/test-main.csv'\n",
    "\n",
    "csv_columns = ['Pclass', 'Sex', 'Age',\n",
    "               'SibSp', 'Parch', 'Fare', 'Cabin']\n",
    "\n",
    "with open(read_filename, 'r', newline='') as csv_readfile:\n",
    "    reader = csv.DictReader(csv_readfile)\n",
    "\n",
    "    with open(write_filename, 'w', newline='') as csv_writefile:\n",
    "        fieldnames = csv_columns\n",
    "        writer = csv.DictWriter(csv_writefile, fieldnames=fieldnames)\n",
    "\n",
    "        writer.writeheader()\n",
    "        for line in reader:\n",
    "            writer.writerow({c: line[c] for c in csv_columns})"
   ]
  },
  {
   "cell_type": "code",
   "execution_count": 32,
   "metadata": {},
   "outputs": [
    {
     "data": {
      "text/plain": [
       "{'Age': <tf.Tensor 'DecodeCSV_25:5' shape=() dtype=float32>,\n",
       " 'Cabin': <tf.Tensor 'DecodeCSV_25:10' shape=() dtype=string>,\n",
       " 'Embarked': <tf.Tensor 'DecodeCSV_25:11' shape=() dtype=string>,\n",
       " 'Fare': <tf.Tensor 'DecodeCSV_25:9' shape=() dtype=float32>,\n",
       " 'Name': <tf.Tensor 'DecodeCSV_25:3' shape=() dtype=string>,\n",
       " 'Parch': <tf.Tensor 'DecodeCSV_25:7' shape=() dtype=int32>,\n",
       " 'PassengerId': <tf.Tensor 'DecodeCSV_25:0' shape=() dtype=int32>,\n",
       " 'Pclass': <tf.Tensor 'DecodeCSV_25:2' shape=() dtype=int32>,\n",
       " 'Sex': <tf.Tensor 'DecodeCSV_25:4' shape=() dtype=string>,\n",
       " 'SibSp': <tf.Tensor 'DecodeCSV_25:6' shape=() dtype=int32>,\n",
       " 'Survived': <tf.Tensor 'DecodeCSV_25:1' shape=() dtype=int32>,\n",
       " 'Ticket': <tf.Tensor 'DecodeCSV_25:8' shape=() dtype=string>}"
      ]
     },
     "execution_count": 32,
     "metadata": {},
     "output_type": "execute_result"
    }
   ],
   "source": [
    "features"
   ]
  },
  {
   "cell_type": "code",
   "execution_count": 34,
   "metadata": {},
   "outputs": [
    {
     "ename": "KeyError",
     "evalue": "'Age'",
     "output_type": "error",
     "traceback": [
      "\u001b[0;31m---------------------------------------------------------------------------\u001b[0m",
      "\u001b[0;31mKeyError\u001b[0m                                  Traceback (most recent call last)",
      "\u001b[0;32m<ipython-input-34-13b4b507778d>\u001b[0m in \u001b[0;36m<module>\u001b[0;34m()\u001b[0m\n\u001b[0;32m----> 1\u001b[0;31m \u001b[0mage\u001b[0m \u001b[0;34m=\u001b[0m \u001b[0mfeatures\u001b[0m\u001b[0;34m.\u001b[0m\u001b[0mpop\u001b[0m\u001b[0;34m(\u001b[0m\u001b[0;34m'Age'\u001b[0m\u001b[0;34m)\u001b[0m\u001b[0;34m\u001b[0m\u001b[0m\n\u001b[0m\u001b[1;32m      2\u001b[0m \u001b[0mage\u001b[0m\u001b[0;34m\u001b[0m\u001b[0m\n",
      "\u001b[0;31mKeyError\u001b[0m: 'Age'"
     ]
    }
   ],
   "source": [
    "try:\n",
    "    age = features.pop('Age')\n",
    "except KeyError:\n",
    "    # already poped\n",
    "    pass\n",
    "\n",
    "age"
   ]
  },
  {
   "cell_type": "code",
   "execution_count": 37,
   "metadata": {},
   "outputs": [
    {
     "data": {
      "text/plain": [
       "<tf.Tensor 'DecodeCSV_25:1' shape=() dtype=int32>"
      ]
     },
     "execution_count": 37,
     "metadata": {},
     "output_type": "execute_result"
    }
   ],
   "source": [
    "survived = features.pop('Survived')\n",
    "survived"
   ]
  },
  {
   "cell_type": "code",
   "execution_count": 44,
   "metadata": {},
   "outputs": [
    {
     "name": "stdout",
     "output_type": "stream",
     "text": [
      "INFO:tensorflow:Using config: {'_model_dir': '/tmp/titanic/', '_tf_random_seed': None, '_save_summary_steps': 100, '_save_checkpoints_steps': None, '_save_checkpoints_secs': 600, '_session_config': device_count {\n",
      "  key: \"GPU\"\n",
      "}\n",
      ", '_keep_checkpoint_max': 5, '_keep_checkpoint_every_n_hours': 10000, '_log_step_count_steps': 100, '_service': None, '_cluster_spec': <tensorflow.python.training.server_lib.ClusterSpec object at 0x114afe6a0>, '_task_type': 'worker', '_task_id': 0, '_master': '', '_is_chief': True, '_num_ps_replicas': 0, '_num_worker_replicas': 1}\n"
     ]
    },
    {
     "ename": "ValueError",
     "evalue": "features should be a dictionary of `Tensor`s. Given type: <class 'tensorflow.python.framework.ops.Tensor'>",
     "output_type": "error",
     "traceback": [
      "\u001b[0;31m---------------------------------------------------------------------------\u001b[0m",
      "\u001b[0;31mValueError\u001b[0m                                Traceback (most recent call last)",
      "\u001b[0;32m<ipython-input-44-18456f0fa5a6>\u001b[0m in \u001b[0;36m<module>\u001b[0;34m()\u001b[0m\n\u001b[1;32m     75\u001b[0m \u001b[0;34m\u001b[0m\u001b[0m\n\u001b[1;32m     76\u001b[0m \u001b[0;32mfor\u001b[0m \u001b[0mn\u001b[0m \u001b[0;32min\u001b[0m \u001b[0mrange\u001b[0m\u001b[0;34m(\u001b[0m\u001b[0mtrain_epochs\u001b[0m \u001b[0;34m//\u001b[0m \u001b[0mepochs_per_eval\u001b[0m\u001b[0;34m)\u001b[0m\u001b[0;34m:\u001b[0m\u001b[0;34m\u001b[0m\u001b[0m\n\u001b[0;32m---> 77\u001b[0;31m     model.train(input_fn=lambda: input_fn(\n\u001b[0m\u001b[1;32m     78\u001b[0m         train_data, epochs_per_eval, True, batch_size))\n\u001b[1;32m     79\u001b[0m \u001b[0;34m\u001b[0m\u001b[0m\n",
      "\u001b[0;32m~/Documents/ml/kaggle/digit-recognizer/venv/lib/python3.6/site-packages/tensorflow/python/estimator/estimator.py\u001b[0m in \u001b[0;36mtrain\u001b[0;34m(self, input_fn, hooks, steps, max_steps, saving_listeners)\u001b[0m\n\u001b[1;32m    300\u001b[0m \u001b[0;34m\u001b[0m\u001b[0m\n\u001b[1;32m    301\u001b[0m     \u001b[0msaving_listeners\u001b[0m \u001b[0;34m=\u001b[0m \u001b[0m_check_listeners_type\u001b[0m\u001b[0;34m(\u001b[0m\u001b[0msaving_listeners\u001b[0m\u001b[0;34m)\u001b[0m\u001b[0;34m\u001b[0m\u001b[0m\n\u001b[0;32m--> 302\u001b[0;31m     \u001b[0mloss\u001b[0m \u001b[0;34m=\u001b[0m \u001b[0mself\u001b[0m\u001b[0;34m.\u001b[0m\u001b[0m_train_model\u001b[0m\u001b[0;34m(\u001b[0m\u001b[0minput_fn\u001b[0m\u001b[0;34m,\u001b[0m \u001b[0mhooks\u001b[0m\u001b[0;34m,\u001b[0m \u001b[0msaving_listeners\u001b[0m\u001b[0;34m)\u001b[0m\u001b[0;34m\u001b[0m\u001b[0m\n\u001b[0m\u001b[1;32m    303\u001b[0m     \u001b[0mlogging\u001b[0m\u001b[0;34m.\u001b[0m\u001b[0minfo\u001b[0m\u001b[0;34m(\u001b[0m\u001b[0;34m'Loss for final step: %s.'\u001b[0m\u001b[0;34m,\u001b[0m \u001b[0mloss\u001b[0m\u001b[0;34m)\u001b[0m\u001b[0;34m\u001b[0m\u001b[0m\n\u001b[1;32m    304\u001b[0m     \u001b[0;32mreturn\u001b[0m \u001b[0mself\u001b[0m\u001b[0;34m\u001b[0m\u001b[0m\n",
      "\u001b[0;32m~/Documents/ml/kaggle/digit-recognizer/venv/lib/python3.6/site-packages/tensorflow/python/estimator/estimator.py\u001b[0m in \u001b[0;36m_train_model\u001b[0;34m(self, input_fn, hooks, saving_listeners)\u001b[0m\n\u001b[1;32m    709\u001b[0m       \u001b[0;32mwith\u001b[0m \u001b[0mops\u001b[0m\u001b[0;34m.\u001b[0m\u001b[0mcontrol_dependencies\u001b[0m\u001b[0;34m(\u001b[0m\u001b[0;34m[\u001b[0m\u001b[0mglobal_step_read_tensor\u001b[0m\u001b[0;34m]\u001b[0m\u001b[0;34m)\u001b[0m\u001b[0;34m:\u001b[0m\u001b[0;34m\u001b[0m\u001b[0m\n\u001b[1;32m    710\u001b[0m         estimator_spec = self._call_model_fn(\n\u001b[0;32m--> 711\u001b[0;31m             features, labels, model_fn_lib.ModeKeys.TRAIN, self.config)\n\u001b[0m\u001b[1;32m    712\u001b[0m       \u001b[0;31m# Check if the user created a loss summary, and add one if they didn't.\u001b[0m\u001b[0;34m\u001b[0m\u001b[0;34m\u001b[0m\u001b[0m\n\u001b[1;32m    713\u001b[0m       \u001b[0;31m# We assume here that the summary is called 'loss'. If it is not, we will\u001b[0m\u001b[0;34m\u001b[0m\u001b[0;34m\u001b[0m\u001b[0m\n",
      "\u001b[0;32m~/Documents/ml/kaggle/digit-recognizer/venv/lib/python3.6/site-packages/tensorflow/python/estimator/estimator.py\u001b[0m in \u001b[0;36m_call_model_fn\u001b[0;34m(self, features, labels, mode, config)\u001b[0m\n\u001b[1;32m    692\u001b[0m     \u001b[0;32mif\u001b[0m \u001b[0;34m'config'\u001b[0m \u001b[0;32min\u001b[0m \u001b[0mmodel_fn_args\u001b[0m\u001b[0;34m:\u001b[0m\u001b[0;34m\u001b[0m\u001b[0m\n\u001b[1;32m    693\u001b[0m       \u001b[0mkwargs\u001b[0m\u001b[0;34m[\u001b[0m\u001b[0;34m'config'\u001b[0m\u001b[0;34m]\u001b[0m \u001b[0;34m=\u001b[0m \u001b[0mconfig\u001b[0m\u001b[0;34m\u001b[0m\u001b[0m\n\u001b[0;32m--> 694\u001b[0;31m     \u001b[0mmodel_fn_results\u001b[0m \u001b[0;34m=\u001b[0m \u001b[0mself\u001b[0m\u001b[0;34m.\u001b[0m\u001b[0m_model_fn\u001b[0m\u001b[0;34m(\u001b[0m\u001b[0mfeatures\u001b[0m\u001b[0;34m=\u001b[0m\u001b[0mfeatures\u001b[0m\u001b[0;34m,\u001b[0m \u001b[0;34m**\u001b[0m\u001b[0mkwargs\u001b[0m\u001b[0;34m)\u001b[0m\u001b[0;34m\u001b[0m\u001b[0m\n\u001b[0m\u001b[1;32m    695\u001b[0m \u001b[0;34m\u001b[0m\u001b[0m\n\u001b[1;32m    696\u001b[0m     \u001b[0;32mif\u001b[0m \u001b[0;32mnot\u001b[0m \u001b[0misinstance\u001b[0m\u001b[0;34m(\u001b[0m\u001b[0mmodel_fn_results\u001b[0m\u001b[0;34m,\u001b[0m \u001b[0mmodel_fn_lib\u001b[0m\u001b[0;34m.\u001b[0m\u001b[0mEstimatorSpec\u001b[0m\u001b[0;34m)\u001b[0m\u001b[0;34m:\u001b[0m\u001b[0;34m\u001b[0m\u001b[0m\n",
      "\u001b[0;32m~/Documents/ml/kaggle/digit-recognizer/venv/lib/python3.6/site-packages/tensorflow/python/estimator/canned/linear.py\u001b[0m in \u001b[0;36m_model_fn\u001b[0;34m(features, labels, mode, config)\u001b[0m\n\u001b[1;32m    251\u001b[0m           \u001b[0moptimizer\u001b[0m\u001b[0;34m=\u001b[0m\u001b[0moptimizer\u001b[0m\u001b[0;34m,\u001b[0m\u001b[0;34m\u001b[0m\u001b[0m\n\u001b[1;32m    252\u001b[0m           \u001b[0mpartitioner\u001b[0m\u001b[0;34m=\u001b[0m\u001b[0mpartitioner\u001b[0m\u001b[0;34m,\u001b[0m\u001b[0;34m\u001b[0m\u001b[0m\n\u001b[0;32m--> 253\u001b[0;31m           config=config)\n\u001b[0m\u001b[1;32m    254\u001b[0m     super(LinearClassifier, self).__init__(\n\u001b[1;32m    255\u001b[0m         \u001b[0mmodel_fn\u001b[0m\u001b[0;34m=\u001b[0m\u001b[0m_model_fn\u001b[0m\u001b[0;34m,\u001b[0m\u001b[0;34m\u001b[0m\u001b[0m\n",
      "\u001b[0;32m~/Documents/ml/kaggle/digit-recognizer/venv/lib/python3.6/site-packages/tensorflow/python/estimator/canned/linear.py\u001b[0m in \u001b[0;36m_linear_model_fn\u001b[0;34m(features, labels, mode, head, feature_columns, optimizer, partitioner, config)\u001b[0m\n\u001b[1;32m     98\u001b[0m   \u001b[0;32mif\u001b[0m \u001b[0;32mnot\u001b[0m \u001b[0misinstance\u001b[0m\u001b[0;34m(\u001b[0m\u001b[0mfeatures\u001b[0m\u001b[0;34m,\u001b[0m \u001b[0mdict\u001b[0m\u001b[0;34m)\u001b[0m\u001b[0;34m:\u001b[0m\u001b[0;34m\u001b[0m\u001b[0m\n\u001b[1;32m     99\u001b[0m     raise ValueError('features should be a dictionary of `Tensor`s. '\n\u001b[0;32m--> 100\u001b[0;31m                      'Given type: {}'.format(type(features)))\n\u001b[0m\u001b[1;32m    101\u001b[0m   optimizer = optimizers.get_optimizer_instance(\n\u001b[1;32m    102\u001b[0m       \u001b[0moptimizer\u001b[0m \u001b[0;32mor\u001b[0m \u001b[0m_get_default_optimizer\u001b[0m\u001b[0;34m(\u001b[0m\u001b[0mfeature_columns\u001b[0m\u001b[0;34m)\u001b[0m\u001b[0;34m,\u001b[0m\u001b[0;34m\u001b[0m\u001b[0m\n",
      "\u001b[0;31mValueError\u001b[0m: features should be a dictionary of `Tensor`s. Given type: <class 'tensorflow.python.framework.ops.Tensor'>"
     ]
    }
   ],
   "source": [
    "import shutil\n",
    "\n",
    "feature_columns = [age]\n",
    "hidden_units = [100, 75, 50, 25]\n",
    "model_dir = '/tmp/titanic/'\n",
    "train_epochs = 10\n",
    "epochs_per_eval = 2\n",
    "batch_size = 50\n",
    "train_data = 'input/train.csv'\n",
    "test_data = 'input/test.csv'\n",
    "num_examples = {\n",
    "    'train': 750,\n",
    "    'test': 891-750\n",
    "}\n",
    "\n",
    "# CSV file and FeatureColumn setup\n",
    "\n",
    "filename = \"input/train.csv\"\n",
    "csv_columns = ['PassengerId', 'Survived', 'Pclass', 'Name', 'Sex',\n",
    "               'Age', 'SibSp', 'Parch', 'Ticket', 'Fare',\n",
    "               'Cabin', 'Embarked']\n",
    "record_defaults = [[0], [0], [0], [''], [''],\n",
    "                   [0.], [0], [0], [''], [0.],\n",
    "                   [''], ['']]\n",
    "\n",
    "# Model Config start\n",
    "\n",
    "run_config = tf.estimator.RunConfig().replace(\n",
    "  session_config=tf.ConfigProto(device_count={'GPU': 0}))\n",
    "\n",
    "shutil.rmtree(model_dir, ignore_errors=True)\n",
    "\n",
    "model = tf.estimator.LinearClassifier(\n",
    "    model_dir=model_dir,\n",
    "    feature_columns=feature_columns,\n",
    "    config=run_config\n",
    ")\n",
    "\n",
    "def input_fn(data_file, num_epochs, shuffle, batch_size):\n",
    "\n",
    "    def parse_csv(value):\n",
    "        # setup text reader\n",
    "        file_length = file_len(filename)\n",
    "        filename_queue = tf.train.string_input_producer([filename])\n",
    "        reader = tf.TextLineReader(skip_header_lines=1)\n",
    "        _, csv_row = reader.read(filename_queue)\n",
    "\n",
    "        # setup CSV decoding\n",
    "        passenger_id, survived, pclass, name, sex, age, sibsp, parch, ticket, fare, cabin, embarked = tf.decode_csv(csv_row, record_defaults=record_defaults)\n",
    "\n",
    "        features = dict(zip(\n",
    "            csv_columns,\n",
    "            [passenger_id, survived, pclass, name, sex, age, sibsp, parch, ticket, fare, cabin, embarked]))\n",
    "        age_dict = features.pop('Age')\n",
    "        return [age_dict], tf.equal(survived, 1)\n",
    "\n",
    "    # Extract lines from input files using the Dataset API.\n",
    "    dataset = tf.data.TextLineDataset(data_file)\n",
    "\n",
    "    if shuffle:\n",
    "        dataset = dataset.shuffle(buffer_size=num_examples['train'])\n",
    "\n",
    "    dataset = dataset.map(parse_csv, num_parallel_calls=5)\n",
    "\n",
    "    # We call repeat after shuffling, rather than before, to prevent separate\n",
    "    # epochs from blending together.\n",
    "    dataset = dataset.repeat(num_epochs)\n",
    "    dataset = dataset.batch(batch_size)\n",
    "\n",
    "    iterator = dataset.make_one_shot_iterator()\n",
    "    features, labels = iterator.get_next()\n",
    "    return features, labels\n",
    "\n",
    "# main training run\n",
    "\n",
    "for n in range(train_epochs // epochs_per_eval):\n",
    "    model.train(input_fn=lambda: input_fn(\n",
    "        train_data, epochs_per_eval, True, batch_size))\n",
    "\n",
    "    results = model.evaluate(input_fn=lambda: input_fn(\n",
    "        test_data, 1, False, batch_size))\n",
    "\n",
    "    # Display evaluation metrics\n",
    "    print('Results at epoch', (n + 1) * epochs_per_eval)\n",
    "    print('-' * 60)\n",
    "\n",
    "for key in sorted(results):\n",
    "    print('%s: %s' % (key, results[key]))"
   ]
  },
  {
   "cell_type": "code",
   "execution_count": 45,
   "metadata": {},
   "outputs": [
    {
     "ename": "NameError",
     "evalue": "name 'age_dict' is not defined",
     "output_type": "error",
     "traceback": [
      "\u001b[0;31m---------------------------------------------------------------------------\u001b[0m",
      "\u001b[0;31mNameError\u001b[0m                                 Traceback (most recent call last)",
      "\u001b[0;32m<ipython-input-45-85dfc6bf5541>\u001b[0m in \u001b[0;36m<module>\u001b[0;34m()\u001b[0m\n\u001b[0;32m----> 1\u001b[0;31m \u001b[0mage_dict\u001b[0m\u001b[0;34m\u001b[0m\u001b[0m\n\u001b[0m",
      "\u001b[0;31mNameError\u001b[0m: name 'age_dict' is not defined"
     ]
    }
   ],
   "source": [
    "age_dict"
   ]
  },
  {
   "cell_type": "code",
   "execution_count": 17,
   "metadata": {},
   "outputs": [
    {
     "data": {
      "text/plain": [
       "<module 'pandas' from '/Users/aaron/Documents/ml/kaggle/digit-recognizer/venv/lib/python3.6/site-packages/pandas/__init__.py'>"
      ]
     },
     "execution_count": 17,
     "metadata": {},
     "output_type": "execute_result"
    }
   ],
   "source": [
    "pd"
   ]
  },
  {
   "cell_type": "code",
   "execution_count": 18,
   "metadata": {},
   "outputs": [
    {
     "data": {
      "text/plain": [
       "[(-0.001, 13.667], (-0.001, 13.667], (13.667, 24.333], (13.667, 24.333], (24.333, 32.0], (24.333, 32.0]]\n",
       "Categories (3, interval[float64]): [(-0.001, 13.667] < (13.667, 24.333] < (24.333, 32.0]]"
      ]
     },
     "execution_count": 18,
     "metadata": {},
     "output_type": "execute_result"
    }
   ],
   "source": [
    "a = [0, 1, 20, 21, 31, 32]\n",
    "\n",
    "pd.qcut(a, 3)"
   ]
  },
  {
   "cell_type": "code",
   "execution_count": 25,
   "metadata": {},
   "outputs": [
    {
     "data": {
      "text/plain": [
       "0    17.5\n",
       "dtype: float64"
      ]
     },
     "execution_count": 25,
     "metadata": {},
     "output_type": "execute_result"
    }
   ],
   "source": [
    "pd.DataFrame(a).mean()"
   ]
  },
  {
   "cell_type": "code",
   "execution_count": 26,
   "metadata": {},
   "outputs": [
    {
     "data": {
      "text/plain": [
       "10.666666666666666"
      ]
     },
     "execution_count": 26,
     "metadata": {},
     "output_type": "execute_result"
    }
   ],
   "source": [
    "32/3"
   ]
  },
  {
   "cell_type": "code",
   "execution_count": 28,
   "metadata": {},
   "outputs": [],
   "source": [
    "ret = pd.cut(a, 3)"
   ]
  },
  {
   "cell_type": "code",
   "execution_count": 42,
   "metadata": {},
   "outputs": [
    {
     "name": "stdout",
     "output_type": "stream",
     "text": [
      "0 (-0.032, 10.667]\n",
      "1 (-0.032, 10.667]\n",
      "2 (-0.032, 10.667]\n",
      "3 (-0.032, 10.667]\n",
      "4 (10.667, 21.333]\n",
      "5 (10.667, 21.333]\n",
      "6 (21.333, 32.0]\n",
      "7 (21.333, 32.0]\n"
     ]
    }
   ],
   "source": [
    "a = [0, 1, 3, 4, 20, 21, 31, 32]\n",
    "\n",
    "ret = pd.cut(a, 3)\n",
    "\n",
    "for i, x in enumerate(ret):\n",
    "    print(i, x)"
   ]
  },
  {
   "cell_type": "code",
   "execution_count": 43,
   "metadata": {},
   "outputs": [
    {
     "ename": "TypeError",
     "evalue": "unsupported operand type(s) for +: 'pandas._libs.interval.Interval' and 'pandas._libs.interval.Interval'",
     "output_type": "error",
     "traceback": [
      "\u001b[0;31m---------------------------------------------------------------------------\u001b[0m",
      "\u001b[0;31mTypeError\u001b[0m                                 Traceback (most recent call last)",
      "\u001b[0;32m<ipython-input-43-ae5b33d5d553>\u001b[0m in \u001b[0;36m<module>\u001b[0;34m()\u001b[0m\n\u001b[0;32m----> 1\u001b[0;31m \u001b[0mret\u001b[0m\u001b[0;34m[\u001b[0m\u001b[0;36m0\u001b[0m\u001b[0;34m]\u001b[0m \u001b[0;34m+\u001b[0m \u001b[0mret\u001b[0m\u001b[0;34m[\u001b[0m\u001b[0;36m1\u001b[0m\u001b[0;34m]\u001b[0m\u001b[0;34m\u001b[0m\u001b[0m\n\u001b[0m",
      "\u001b[0;31mTypeError\u001b[0m: unsupported operand type(s) for +: 'pandas._libs.interval.Interval' and 'pandas._libs.interval.Interval'"
     ]
    }
   ],
   "source": [
    "ret[0] + ret[1]"
   ]
  },
  {
   "cell_type": "code",
   "execution_count": null,
   "metadata": {},
   "outputs": [],
   "source": []
  }
 ],
 "metadata": {
  "kernelspec": {
   "display_name": "Python 3",
   "language": "python",
   "name": "python3"
  },
  "language_info": {
   "codemirror_mode": {
    "name": "ipython",
    "version": 3
   },
   "file_extension": ".py",
   "mimetype": "text/x-python",
   "name": "python",
   "nbconvert_exporter": "python",
   "pygments_lexer": "ipython3",
   "version": "3.6.2"
  }
 },
 "nbformat": 4,
 "nbformat_minor": 2
}
